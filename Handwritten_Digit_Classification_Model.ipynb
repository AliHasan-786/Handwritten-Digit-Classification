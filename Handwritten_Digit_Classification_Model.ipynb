{
  "nbformat": 4,
  "nbformat_minor": 0,
  "metadata": {
    "colab": {
      "provenance": [],
      "authorship_tag": "ABX9TyOK8e9kdD68uMKGELSDiSWD",
      "include_colab_link": true
    },
    "kernelspec": {
      "name": "python3",
      "display_name": "Python 3"
    },
    "language_info": {
      "name": "python"
    }
  },
  "cells": [
    {
      "cell_type": "markdown",
      "metadata": {
        "id": "view-in-github",
        "colab_type": "text"
      },
      "source": [
        "<a href=\"https://colab.research.google.com/github/AliHasan-786/Handwritten-Digit-Classification/blob/main/Handwritten_Digit_Classification_Model.ipynb\" target=\"_parent\"><img src=\"https://colab.research.google.com/assets/colab-badge.svg\" alt=\"Open In Colab\"/></a>"
      ]
    },
    {
      "cell_type": "code",
      "execution_count": null,
      "metadata": {
        "colab": {
          "base_uri": "https://localhost:8080/"
        },
        "id": "9OnZ8cmQ7lIU",
        "outputId": "c1484abe-cf3a-4199-ce46-1ba1e4f9e07b"
      },
      "outputs": [
        {
          "output_type": "stream",
          "name": "stdout",
          "text": [
            "Downloading http://yann.lecun.com/exdb/mnist/train-images-idx3-ubyte.gz\n",
            "Downloading http://yann.lecun.com/exdb/mnist/train-images-idx3-ubyte.gz to ./data/MNIST/raw/train-images-idx3-ubyte.gz\n"
          ]
        },
        {
          "output_type": "stream",
          "name": "stderr",
          "text": [
            "100%|██████████| 9912422/9912422 [00:00<00:00, 107612078.34it/s]\n"
          ]
        },
        {
          "output_type": "stream",
          "name": "stdout",
          "text": [
            "Extracting ./data/MNIST/raw/train-images-idx3-ubyte.gz to ./data/MNIST/raw\n",
            "\n",
            "Downloading http://yann.lecun.com/exdb/mnist/train-labels-idx1-ubyte.gz\n",
            "Downloading http://yann.lecun.com/exdb/mnist/train-labels-idx1-ubyte.gz to ./data/MNIST/raw/train-labels-idx1-ubyte.gz\n"
          ]
        },
        {
          "output_type": "stream",
          "name": "stderr",
          "text": [
            "100%|██████████| 28881/28881 [00:00<00:00, 20611824.71it/s]"
          ]
        },
        {
          "output_type": "stream",
          "name": "stdout",
          "text": [
            "Extracting ./data/MNIST/raw/train-labels-idx1-ubyte.gz to ./data/MNIST/raw\n",
            "\n",
            "Downloading http://yann.lecun.com/exdb/mnist/t10k-images-idx3-ubyte.gz\n",
            "Downloading http://yann.lecun.com/exdb/mnist/t10k-images-idx3-ubyte.gz to ./data/MNIST/raw/t10k-images-idx3-ubyte.gz\n"
          ]
        },
        {
          "output_type": "stream",
          "name": "stderr",
          "text": [
            "\n",
            "100%|██████████| 1648877/1648877 [00:00<00:00, 27626325.30it/s]\n"
          ]
        },
        {
          "output_type": "stream",
          "name": "stdout",
          "text": [
            "Extracting ./data/MNIST/raw/t10k-images-idx3-ubyte.gz to ./data/MNIST/raw\n",
            "\n",
            "Downloading http://yann.lecun.com/exdb/mnist/t10k-labels-idx1-ubyte.gz\n",
            "Downloading http://yann.lecun.com/exdb/mnist/t10k-labels-idx1-ubyte.gz to ./data/MNIST/raw/t10k-labels-idx1-ubyte.gz\n"
          ]
        },
        {
          "output_type": "stream",
          "name": "stderr",
          "text": [
            "100%|██████████| 4542/4542 [00:00<00:00, 3982966.50it/s]"
          ]
        },
        {
          "output_type": "stream",
          "name": "stdout",
          "text": [
            "Extracting ./data/MNIST/raw/t10k-labels-idx1-ubyte.gz to ./data/MNIST/raw\n",
            "\n"
          ]
        },
        {
          "output_type": "stream",
          "name": "stderr",
          "text": [
            "\n"
          ]
        }
      ],
      "source": [
        "import torch\n",
        "import torchvision.transforms as transforms\n",
        "from torchvision import datasets\n",
        "\n",
        "# loading training data\n",
        "train_dataset = datasets.MNIST(root='./data',\n",
        "                               train=True,\n",
        "                               transform=transforms.ToTensor(),\n",
        "                               download=True)\n",
        "#loading test data\n",
        "test_dataset = datasets.MNIST(root='./data',\n",
        "                              train=False,\n",
        "                              transform=transforms.ToTensor())"
      ]
    },
    {
      "cell_type": "code",
      "source": [
        "#verify the number of training and testing samples in the dataset\n",
        "print(\"number of training: \" + str(len(train_dataset)) + \"\\n\" +\n",
        "      \"number of testing samples: \" + str(len(test_dataset)))"
      ],
      "metadata": {
        "colab": {
          "base_uri": "https://localhost:8080/"
        },
        "id": "eR23gC0Z9RT6",
        "outputId": "97db2a26-43f1-4210-b1a1-6e4647112040"
      },
      "execution_count": null,
      "outputs": [
        {
          "output_type": "stream",
          "name": "stdout",
          "text": [
            "number of training: 60000\n",
            "number of testing samples: 10000\n"
          ]
        }
      ]
    },
    {
      "cell_type": "code",
      "source": [
        "#Each sample in the dataset is a pair of image and label.\n",
        "#.type() for datatype and .size() for size of the first element in the training data\n",
        "print(\"datatype of the 1st training sample: \", train_dataset[0][0].type())\n",
        "print(\"size of the 1st training sample: \", train_dataset[0][0].size())\n",
        "\n",
        "#Samples can be accessed from a dataset using list indexing\n",
        "#The first sample in the dataset is a FloatTensor and it is a 28x28 pixel image in grayscale, hence the size [1,28,28]"
      ],
      "metadata": {
        "colab": {
          "base_uri": "https://localhost:8080/"
        },
        "id": "pi1eJ0qyAVk5",
        "outputId": "7a83ea36-e049-4b2f-df46-dc819b9a9055"
      },
      "execution_count": null,
      "outputs": [
        {
          "output_type": "stream",
          "name": "stdout",
          "text": [
            "datatype of the 1st training sample:  torch.FloatTensor\n",
            "size of the 1st training sample:  torch.Size([1, 28, 28])\n"
          ]
        }
      ]
    },
    {
      "cell_type": "code",
      "source": [
        "#check the label of first two training samples\n",
        "print(\"label of the first training sample: \", train_dataset[0][1])\n",
        "print(\"label of the second training sample: \", train_dataset[1][1])\n",
        "\n",
        "#From the above, you can see that the first two images in the training set represent \"5\" and \"0\".\n",
        "#Let's show these two images to confirm"
      ],
      "metadata": {
        "colab": {
          "base_uri": "https://localhost:8080/"
        },
        "id": "PcfrlxAzGXfi",
        "outputId": "1710fd91-fe10-420d-d903-e0c18f9f3a17"
      },
      "execution_count": null,
      "outputs": [
        {
          "output_type": "stream",
          "name": "stdout",
          "text": [
            "label of the first training sample:  5\n",
            "label of the second training sample:  0\n"
          ]
        }
      ]
    },
    {
      "cell_type": "code",
      "source": [
        "import matplotlib.pyplot as plt\n",
        "\n",
        "img_5 = train_dataset[0][0].numpy().reshape(28, 28)\n",
        "plt.imshow(img_5, cmap = 'gray')\n",
        "plt.show()\n",
        "img_0 = train_dataset[1][0].numpy().reshape(28, 28)\n",
        "plt.imshow(img_0, cmap = 'gray')\n",
        "plt.show()"
      ],
      "metadata": {
        "colab": {
          "base_uri": "https://localhost:8080/",
          "height": 843
        },
        "id": "IHQe8Dg0Hyas",
        "outputId": "af9c0e98-fabf-4a9b-8d3c-d43672886b49"
      },
      "execution_count": null,
      "outputs": [
        {
          "output_type": "display_data",
          "data": {
            "text/plain": [
              "<Figure size 640x480 with 1 Axes>"
            ],
            "image/png": "[encoded data removed]"
          },
          "metadata": {}
        },
        {
          "output_type": "display_data",
          "data": {
            "text/plain": [
              "<Figure size 640x480 with 1 Axes>"
            ],
            "image/png": "[encoded data removed]"
          },
          "metadata": {}
        }
      ]
    },
    {
      "cell_type": "code",
      "source": [
        "#Usually you do not use the dataset directly in training but through a DataLoader class\n",
        "#This allows you to read data in batches, not samples\n",
        "\n",
        "from torch.utils.data import DataLoader\n",
        "\n",
        "#load train and test data samples into dataloader\n",
        "batach_size = 32\n",
        "train_loader = DataLoader(dataset = train_dataset, batch_size = batach_size, shuffle = True)\n",
        "test_loader = DataLoader(dataset = test_dataset, batch_size = batach_size, shuffle = False)\n",
        "\n",
        "#In the following, data is loaded into DataLoader with batch size at 32\n"
      ],
      "metadata": {
        "id": "lN77qEf7JOL1"
      },
      "execution_count": null,
      "outputs": []
    },
    {
      "cell_type": "code",
      "source": [
        "#Build the Model with nn.Module\n",
        "\n",
        "#build custom module for logistic regression\n",
        "class LogisticRegression(torch.nn.Module):\n",
        "  #build the constructor\n",
        "  def __init__(self, n_inputs, n_outputs):\n",
        "    super(LogisticRegression, self).__init__()\n",
        "    self.linear = torch.nn.Linear(n_inputs, n_outputs)\n",
        "    #make predictions\n",
        "  def forward (self,x ):\n",
        "    y_pred = torch.sigmoid(self.linear(x))\n",
        "    return y_pred\n",
        "\n",
        "#The model will take a 28x28 pixel image of handwritten digits as input and classify them into one of the 10 output classes of digits 0 to 9.\n"
      ],
      "metadata": {
        "id": "-lulMi0qMuNW"
      },
      "execution_count": null,
      "outputs": []
    },
    {
      "cell_type": "code",
      "source": [
        "#instantiate the model\n",
        "n_inputs = 28*28 #makes a 1D vector of 784\n",
        "n_outputs = 10\n",
        "log_regr = LogisticRegression(n_inputs, n_outputs)"
      ],
      "metadata": {
        "id": "eMaK506KP5z0"
      },
      "execution_count": null,
      "outputs": []
    },
    {
      "cell_type": "code",
      "source": [
        "'''\n",
        "The model will be trained with stochastic gradient descent\n",
        "as the optimizer with learning rate 0.001 and cross-entropy as the loss metric\n",
        "Then, the model is trained for 50 epochs.\n",
        "\n",
        "Note that you have use view() method to flatten the image matrices into rows to\n",
        "fit the same of the logistic regression model input\n",
        "'''\n",
        "\n",
        "# defining the optimizer\n",
        "optimizer = torch.optim.SGD(log_regr.parameters(), lr=0.001)\n",
        "# defining Cross-Entropy loss\n",
        "criterion = torch.nn.CrossEntropyLoss()\n",
        "\n",
        "epochs = 50\n",
        "Loss = []\n",
        "acc = []\n",
        "for epoch in range(epochs):\n",
        "    for i, (images, labels) in enumerate(train_loader):\n",
        "        optimizer.zero_grad()\n",
        "        outputs = log_regr(images.view(-1, 28*28))\n",
        "        loss = criterion(outputs, labels)\n",
        "        # Loss.append(loss.item())\n",
        "        loss.backward()\n",
        "        optimizer.step()\n",
        "    Loss.append(loss.item())\n",
        "    correct = 0\n",
        "    for images, labels in test_loader:\n",
        "        outputs = log_regr(images.view(-1, 28*28))\n",
        "        _, predicted = torch.max(outputs.data, 1)\n",
        "        correct += (predicted == labels).sum()\n",
        "    accuracy = 100 * (correct.item()) / len(test_dataset)\n",
        "    acc.append(accuracy)\n",
        "    print('Epoch: {}. Loss: {}. Accuracy: {}'.format(epoch, loss.item(), accuracy))"
      ],
      "metadata": {
        "colab": {
          "base_uri": "https://localhost:8080/"
        },
        "id": "VQfAVX14QwyF",
        "outputId": "1497a4c5-0c63-4c03-ad77-6bf6d8cddc54"
      },
      "execution_count": null,
      "outputs": [
        {
          "output_type": "stream",
          "name": "stdout",
          "text": [
            "Epoch: 0. Loss: 2.1356029510498047. Accuracy: 65.96\n",
            "Epoch: 1. Loss: 2.1030919551849365. Accuracy: 74.16\n",
            "Epoch: 2. Loss: 2.0660693645477295. Accuracy: 77.58\n",
            "Epoch: 3. Loss: 2.002660036087036. Accuracy: 79.54\n",
            "Epoch: 4. Loss: 1.9995379447937012. Accuracy: 80.8\n",
            "Epoch: 5. Loss: 1.915931224822998. Accuracy: 81.55\n",
            "Epoch: 6. Loss: 1.906923532485962. Accuracy: 82.09\n",
            "Epoch: 7. Loss: 1.9351377487182617. Accuracy: 82.42\n",
            "Epoch: 8. Loss: 1.8414857387542725. Accuracy: 82.72\n",
            "Epoch: 9. Loss: 1.9055655002593994. Accuracy: 82.98\n",
            "Epoch: 10. Loss: 1.8201239109039307. Accuracy: 83.23\n",
            "Epoch: 11. Loss: 1.780746340751648. Accuracy: 83.42\n",
            "Epoch: 12. Loss: 1.7629055976867676. Accuracy: 83.6\n",
            "Epoch: 13. Loss: 1.822615623474121. Accuracy: 83.84\n",
            "Epoch: 14. Loss: 1.7773298025131226. Accuracy: 84.04\n",
            "Epoch: 15. Loss: 1.784067153930664. Accuracy: 84.19\n",
            "Epoch: 16. Loss: 1.779587984085083. Accuracy: 84.25\n",
            "Epoch: 17. Loss: 1.7517812252044678. Accuracy: 84.36\n",
            "Epoch: 18. Loss: 1.7247920036315918. Accuracy: 84.55\n",
            "Epoch: 19. Loss: 1.7666932344436646. Accuracy: 84.66\n",
            "Epoch: 20. Loss: 1.7523210048675537. Accuracy: 84.79\n",
            "Epoch: 21. Loss: 1.773680329322815. Accuracy: 84.94\n",
            "Epoch: 22. Loss: 1.847284197807312. Accuracy: 85.03\n",
            "Epoch: 23. Loss: 1.7914291620254517. Accuracy: 85.1\n",
            "Epoch: 24. Loss: 1.714055061340332. Accuracy: 85.19\n",
            "Epoch: 25. Loss: 1.760535478591919. Accuracy: 85.26\n",
            "Epoch: 26. Loss: 1.7101950645446777. Accuracy: 85.31\n",
            "Epoch: 27. Loss: 1.8019322156906128. Accuracy: 85.41\n",
            "Epoch: 28. Loss: 1.7328224182128906. Accuracy: 85.49\n",
            "Epoch: 29. Loss: 1.7349165678024292. Accuracy: 85.62\n",
            "Epoch: 30. Loss: 1.7134872674942017. Accuracy: 85.71\n",
            "Epoch: 31. Loss: 1.7167190313339233. Accuracy: 85.78\n",
            "Epoch: 32. Loss: 1.7858073711395264. Accuracy: 85.87\n",
            "Epoch: 33. Loss: 1.6990634202957153. Accuracy: 85.92\n",
            "Epoch: 34. Loss: 1.7304524183273315. Accuracy: 85.96\n",
            "Epoch: 35. Loss: 1.7123374938964844. Accuracy: 85.97\n",
            "Epoch: 36. Loss: 1.677626371383667. Accuracy: 86.01\n",
            "Epoch: 37. Loss: 1.7205127477645874. Accuracy: 86.06\n",
            "Epoch: 38. Loss: 1.693824052810669. Accuracy: 86.19\n",
            "Epoch: 39. Loss: 1.674079179763794. Accuracy: 86.27\n",
            "Epoch: 40. Loss: 1.66203773021698. Accuracy: 86.3\n",
            "Epoch: 41. Loss: 1.6852391958236694. Accuracy: 86.39\n",
            "Epoch: 42. Loss: 1.7389535903930664. Accuracy: 86.37\n",
            "Epoch: 43. Loss: 1.7331829071044922. Accuracy: 86.38\n",
            "Epoch: 44. Loss: 1.7144215106964111. Accuracy: 86.44\n",
            "Epoch: 45. Loss: 1.7267884016036987. Accuracy: 86.47\n",
            "Epoch: 46. Loss: 1.6278345584869385. Accuracy: 86.49\n",
            "Epoch: 47. Loss: 1.768709659576416. Accuracy: 86.51\n",
            "Epoch: 48. Loss: 1.6864359378814697. Accuracy: 86.52\n",
            "Epoch: 49. Loss: 1.6320252418518066. Accuracy: 86.54\n"
          ]
        }
      ]
    },
    {
      "cell_type": "code",
      "source": [
        "#The model achieved an accuracy of around 86% by training the model for only 50 epochs\n",
        "#Accuracy can be improved further if the model is trained longer\n",
        "#Let's visualize how the graphs for loss and accuracy looks like. The following is the loss:\n",
        "plt.plot(Loss)\n",
        "plt.xlabel(\"Number of Epochs\")\n",
        "plt.ylabel(\"Total loss\")\n",
        "plt.title(\"Loss\")\n",
        "plt.show()"
      ],
      "metadata": {
        "colab": {
          "base_uri": "https://localhost:8080/",
          "height": 472
        },
        "id": "I64KtZitbSAb",
        "outputId": "da0f55b0-5c10-4b58-faa0-a27e703829dc"
      },
      "execution_count": null,
      "outputs": [
        {
          "output_type": "display_data",
          "data": {
            "text/plain": [
              "<Figure size 640x480 with 1 Axes>"
            ],
            "image/png": "[encoded data removed]"
          },
          "metadata": {}
        }
      ]
    },
    {
      "cell_type": "code",
      "source": [
        "#For accuracy\n",
        "plt.plot(acc)\n",
        "plt.xlabel(\"Number of Epochs\")\n",
        "plt.ylabel(\"Total Accuracy\")\n",
        "plt.show()"
      ],
      "metadata": {
        "colab": {
          "base_uri": "https://localhost:8080/",
          "height": 449
        },
        "id": "Fn-AKvjmcLY9",
        "outputId": "9591d85f-af73-43a2-da09-4bac98a4e62b"
      },
      "execution_count": null,
      "outputs": [
        {
          "output_type": "display_data",
          "data": {
            "text/plain": [
              "<Figure size 640x480 with 1 Axes>"
            ],
            "image/png": "[encoded data removed]"
          },
          "metadata": {}
        }
      ]
    }
  ]
}